{
 "cells": [
  {
   "cell_type": "code",
   "execution_count": 12,
   "metadata": {},
   "outputs": [
    {
     "data": {
      "text/plain": [
       "FileObject(id='file-UShfSABObtYPaBN0aTYjhPOJ', bytes=5316666, created_at=1703714831, filename='finetune_gpt3_clean_train.jsonl', object='file', purpose='fine-tune', status='processed', status_details=None)"
      ]
     },
     "execution_count": 12,
     "metadata": {},
     "output_type": "execute_result"
    }
   ],
   "source": [
    "from pathlib import Path\n",
    "from openai import OpenAI\n",
    "\n",
    "client = OpenAI()\n",
    "\n",
    "client.files.create(\n",
    "    file=Path(\"./data/train_test_datasets/train_gpt3_3/train/finetune_gpt3_clean_train.jsonl\"),\n",
    "purpose=\"fine-tune\")\n",
    "\n"
   ]
  },
  {
   "cell_type": "code",
   "execution_count": 13,
   "metadata": {},
   "outputs": [
    {
     "data": {
      "text/plain": [
       "FileObject(id='file-nvMgKDuPj2WYCP5CMNMr7jgR', bytes=463620, created_at=1703714832, filename='finetune_gpt3_clean_eval.jsonl', object='file', purpose='fine-tune', status='processed', status_details=None)"
      ]
     },
     "execution_count": 13,
     "metadata": {},
     "output_type": "execute_result"
    }
   ],
   "source": [
    "client.files.create(\n",
    "    file=Path(\"./data/train_test_datasets/train_gpt3_3/eval/finetune_gpt3_clean_eval.jsonl\"),\n",
    "purpose=\"fine-tune\")\n"
   ]
  },
  {
   "cell_type": "code",
   "execution_count": 3,
   "metadata": {},
   "outputs": [
    {
     "data": {
      "text/plain": [
       "FineTuningJob(id='ftjob-fjCLfKKY1YIUMjxZWGi5G750', created_at=1703694441, error=None, fine_tuned_model=None, finished_at=None, hyperparameters=Hyperparameters(n_epochs=2, batch_size='auto', learning_rate_multiplier='auto'), model='gpt-3.5-turbo-1106', object='fine_tuning.job', organization_id='org-msnMMnJtYiKbu3sgcI3GtBvp', result_files=[], status='validating_files', trained_tokens=None, training_file='file-6OzZ5V4P9JemPiRbuV8m5F0c', validation_file='file-8eS81X8RROTV20NLT8atSCqh')"
      ]
     },
     "execution_count": 3,
     "metadata": {},
     "output_type": "execute_result"
    }
   ],
   "source": [
    "from openai import OpenAI\n",
    "client = OpenAI()\n",
    "\n",
    "client.fine_tuning.jobs.create(\n",
    "  training_file=\"file-UShfSABObtYPaBN0aTYjhPOJ\",\n",
    "  validation_file =\"file-nvMgKDuPj2WYCP5CMNMr7jgR\",\n",
    "  hyperparameters={\n",
    "    \"n_epochs\": 1\n",
    "  },\n",
    "  model=\"gpt-3.5-turbo-1106\"\n",
    ")"
   ]
  },
  {
   "cell_type": "code",
   "execution_count": 11,
   "metadata": {},
   "outputs": [
    {
     "data": {
      "text/plain": [
       "SyncCursorPage[FineTuningJob](data=[FineTuningJob(id='ftjob-fjCLfKKY1YIUMjxZWGi5G750', created_at=1703694441, error=None, fine_tuned_model='ft:gpt-3.5-turbo-1106:personal::8aS3Zc3u', finished_at=1703698348, hyperparameters=Hyperparameters(n_epochs=2, batch_size=2, learning_rate_multiplier=2), model='gpt-3.5-turbo-1106', object='fine_tuning.job', organization_id='org-msnMMnJtYiKbu3sgcI3GtBvp', result_files=['file-LKLeQpwtmQcqI0sZxvdN9EHp'], status='succeeded', trained_tokens=2760620, training_file='file-6OzZ5V4P9JemPiRbuV8m5F0c', validation_file='file-8eS81X8RROTV20NLT8atSCqh'), FineTuningJob(id='ftjob-LtJ5JzVPQS3b5LjjbPRowjpg', created_at=1703455365, error=None, fine_tuned_model='ft:gpt-3.5-turbo-1106:personal::8ZSSBQmP', finished_at=1703461546, hyperparameters=Hyperparameters(n_epochs=2, batch_size=1, learning_rate_multiplier=2), model='gpt-3.5-turbo-1106', object='fine_tuning.job', organization_id='org-msnMMnJtYiKbu3sgcI3GtBvp', result_files=['file-Zme1CUdEz4xBlYP7pJG0PvYi'], status='succeeded', trained_tokens=2434566, training_file='file-iXzmWnOAHLaqKrbJJBplY6q7', validation_file='file-nVpvmfUYJ47oSVCA2QvSVgxx'), FineTuningJob(id='ftjob-vABlcL9I1ElJ3jGOpQtvnIhU', created_at=1703321908, error=None, fine_tuned_model='ft:gpt-3.5-turbo-1106:personal::8YtseTkY', finished_at=1703328648, hyperparameters=Hyperparameters(n_epochs=2, batch_size=1, learning_rate_multiplier=2), model='gpt-3.5-turbo-1106', object='fine_tuning.job', organization_id='org-msnMMnJtYiKbu3sgcI3GtBvp', result_files=['file-Kyh9UacIL2ghxhXqT22W3M5S'], status='succeeded', trained_tokens=2523706, training_file='file-A0LJ4UQkU9gaiReroxCYiUZs', validation_file='file-DKNFah1UWcWF3VhMAni88Z8c'), FineTuningJob(id='ftjob-CxCi4L892RY3rTVCugGFf2fM', created_at=1703242023, error=None, fine_tuned_model='ft:gpt-3.5-turbo-0613:personal::8YYgMaya', finished_at=1703247161, hyperparameters=Hyperparameters(n_epochs=3, batch_size=2, learning_rate_multiplier=2), model='ft:gpt-3.5-turbo-0613:personal::8YDFaZAa', object='fine_tuning.job', organization_id='org-msnMMnJtYiKbu3sgcI3GtBvp', result_files=['file-SYbWtIaEdE9W5ZC99xUn21HU'], status='succeeded', trained_tokens=3785559, training_file='file-V7Gfl6T157XMomIDeQMvZiQB', validation_file='file-KauwEiH2o6zOJsltXvEbU6Qz'), FineTuningJob(id='ftjob-grjurmVsrsR82psurGZ31GVE', created_at=1703171524, error=None, fine_tuned_model='ft:gpt-3.5-turbo-0613:personal::8YFI8wT2', finished_at=1703172623, hyperparameters=Hyperparameters(n_epochs=1, batch_size=1, learning_rate_multiplier=2), model='ft:gpt-3.5-turbo-0613:personal::8YDFaZAa', object='fine_tuning.job', organization_id='org-msnMMnJtYiKbu3sgcI3GtBvp', result_files=['file-DGc6L1wHHVAx7zOnvF7zzqXI'], status='succeeded', trained_tokens=341771, training_file='file-XDbXDMjEFXPFpS1uaOdfOJ8B', validation_file='file-HogI6NwoBHdZCnVrXeKOCgbd'), FineTuningJob(id='ftjob-uSTKTGLvJ6jTJlqjCEgG0xyE', created_at=1703161933, error=None, fine_tuned_model='ft:gpt-3.5-turbo-0613:personal::8YDFaZAa', finished_at=1703164777, hyperparameters=Hyperparameters(n_epochs=3, batch_size=1, learning_rate_multiplier=2), model='gpt-3.5-turbo-0613', object='fine_tuning.job', organization_id='org-msnMMnJtYiKbu3sgcI3GtBvp', result_files=['file-0XPBX0GjEUpC7h5ksPIn4LXS'], status='succeeded', trained_tokens=1025313, training_file='file-Mh40jTCV8rB7OD1gVYhgN501', validation_file='file-vO8MhsV61Jrc4T5m3QcBehdc')], object='list', has_more=False)"
      ]
     },
     "execution_count": 11,
     "metadata": {},
     "output_type": "execute_result"
    }
   ],
   "source": [
    "client.fine_tuning.jobs.list()"
   ]
  }
 ],
 "metadata": {
  "kernelspec": {
   "display_name": "dhllm3",
   "language": "python",
   "name": "python3"
  },
  "language_info": {
   "codemirror_mode": {
    "name": "ipython",
    "version": 3
   },
   "file_extension": ".py",
   "mimetype": "text/x-python",
   "name": "python",
   "nbconvert_exporter": "python",
   "pygments_lexer": "ipython3",
   "version": "3.11.4"
  }
 },
 "nbformat": 4,
 "nbformat_minor": 2
}
